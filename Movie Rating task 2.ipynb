{
 "cells": [
  {
   "cell_type": "code",
   "execution_count": 45,
   "id": "af55363e",
   "metadata": {
    "tags": []
   },
   "outputs": [],
   "source": [
    "import pandas as pd \n",
    "import seaborn as sns\n",
    "import matplotlib.pyplot as plt \n",
    "import os\n",
    "from sklearn.model_selection import train_test_split\n",
    "from sklearn.linear_model import LogisticRegression"
   ]
  },
  {
   "cell_type": "code",
   "execution_count": 46,
   "id": "a44c0f99",
   "metadata": {
    "tags": []
   },
   "outputs": [
    {
     "data": {
      "text/plain": [
       "'C:\\\\Users\\\\Esther'"
      ]
     },
     "execution_count": 46,
     "metadata": {},
     "output_type": "execute_result"
    }
   ],
   "source": [
    "pwd"
   ]
  },
  {
   "cell_type": "code",
   "execution_count": 47,
   "id": "6f0d56af",
   "metadata": {
    "tags": []
   },
   "outputs": [
    {
     "data": {
      "text/html": [
       "<div>\n",
       "<style scoped>\n",
       "    .dataframe tbody tr th:only-of-type {\n",
       "        vertical-align: middle;\n",
       "    }\n",
       "\n",
       "    .dataframe tbody tr th {\n",
       "        vertical-align: top;\n",
       "    }\n",
       "\n",
       "    .dataframe thead th {\n",
       "        text-align: right;\n",
       "    }\n",
       "</style>\n",
       "<table border=\"1\" class=\"dataframe\">\n",
       "  <thead>\n",
       "    <tr style=\"text-align: right;\">\n",
       "      <th></th>\n",
       "      <th>Name</th>\n",
       "      <th>Year</th>\n",
       "      <th>Duration</th>\n",
       "      <th>Genre</th>\n",
       "      <th>Rating</th>\n",
       "      <th>Votes</th>\n",
       "      <th>Director</th>\n",
       "      <th>Actor 1</th>\n",
       "      <th>Actor 2</th>\n",
       "      <th>Actor 3</th>\n",
       "    </tr>\n",
       "  </thead>\n",
       "  <tbody>\n",
       "    <tr>\n",
       "      <th>0</th>\n",
       "      <td></td>\n",
       "      <td>NaN</td>\n",
       "      <td>NaN</td>\n",
       "      <td>Drama</td>\n",
       "      <td>NaN</td>\n",
       "      <td>NaN</td>\n",
       "      <td>J.S. Randhawa</td>\n",
       "      <td>Manmauji</td>\n",
       "      <td>Birbal</td>\n",
       "      <td>Rajendra Bhatia</td>\n",
       "    </tr>\n",
       "    <tr>\n",
       "      <th>1</th>\n",
       "      <td>#Gadhvi (He thought he was Gandhi)</td>\n",
       "      <td>(2019)</td>\n",
       "      <td>109 min</td>\n",
       "      <td>Drama</td>\n",
       "      <td>7.0</td>\n",
       "      <td>8</td>\n",
       "      <td>Gaurav Bakshi</td>\n",
       "      <td>Rasika Dugal</td>\n",
       "      <td>Vivek Ghamande</td>\n",
       "      <td>Arvind Jangid</td>\n",
       "    </tr>\n",
       "    <tr>\n",
       "      <th>2</th>\n",
       "      <td>#Homecoming</td>\n",
       "      <td>(2021)</td>\n",
       "      <td>90 min</td>\n",
       "      <td>Drama, Musical</td>\n",
       "      <td>NaN</td>\n",
       "      <td>NaN</td>\n",
       "      <td>Soumyajit Majumdar</td>\n",
       "      <td>Sayani Gupta</td>\n",
       "      <td>Plabita Borthakur</td>\n",
       "      <td>Roy Angana</td>\n",
       "    </tr>\n",
       "    <tr>\n",
       "      <th>3</th>\n",
       "      <td>#Yaaram</td>\n",
       "      <td>(2019)</td>\n",
       "      <td>110 min</td>\n",
       "      <td>Comedy, Romance</td>\n",
       "      <td>4.4</td>\n",
       "      <td>35</td>\n",
       "      <td>Ovais Khan</td>\n",
       "      <td>Prateik</td>\n",
       "      <td>Ishita Raj</td>\n",
       "      <td>Siddhant Kapoor</td>\n",
       "    </tr>\n",
       "    <tr>\n",
       "      <th>4</th>\n",
       "      <td>...And Once Again</td>\n",
       "      <td>(2010)</td>\n",
       "      <td>105 min</td>\n",
       "      <td>Drama</td>\n",
       "      <td>NaN</td>\n",
       "      <td>NaN</td>\n",
       "      <td>Amol Palekar</td>\n",
       "      <td>Rajat Kapoor</td>\n",
       "      <td>Rituparna Sengupta</td>\n",
       "      <td>Antara Mali</td>\n",
       "    </tr>\n",
       "    <tr>\n",
       "      <th>...</th>\n",
       "      <td>...</td>\n",
       "      <td>...</td>\n",
       "      <td>...</td>\n",
       "      <td>...</td>\n",
       "      <td>...</td>\n",
       "      <td>...</td>\n",
       "      <td>...</td>\n",
       "      <td>...</td>\n",
       "      <td>...</td>\n",
       "      <td>...</td>\n",
       "    </tr>\n",
       "    <tr>\n",
       "      <th>15504</th>\n",
       "      <td>Zulm Ko Jala Doonga</td>\n",
       "      <td>(1988)</td>\n",
       "      <td>NaN</td>\n",
       "      <td>Action</td>\n",
       "      <td>4.6</td>\n",
       "      <td>11</td>\n",
       "      <td>Mahendra Shah</td>\n",
       "      <td>Naseeruddin Shah</td>\n",
       "      <td>Sumeet Saigal</td>\n",
       "      <td>Suparna Anand</td>\n",
       "    </tr>\n",
       "    <tr>\n",
       "      <th>15505</th>\n",
       "      <td>Zulmi</td>\n",
       "      <td>(1999)</td>\n",
       "      <td>129 min</td>\n",
       "      <td>Action, Drama</td>\n",
       "      <td>4.5</td>\n",
       "      <td>655</td>\n",
       "      <td>Kuku Kohli</td>\n",
       "      <td>Akshay Kumar</td>\n",
       "      <td>Twinkle Khanna</td>\n",
       "      <td>Aruna Irani</td>\n",
       "    </tr>\n",
       "    <tr>\n",
       "      <th>15506</th>\n",
       "      <td>Zulmi Raj</td>\n",
       "      <td>(2005)</td>\n",
       "      <td>NaN</td>\n",
       "      <td>Action</td>\n",
       "      <td>NaN</td>\n",
       "      <td>NaN</td>\n",
       "      <td>Kiran Thej</td>\n",
       "      <td>Sangeeta Tiwari</td>\n",
       "      <td>NaN</td>\n",
       "      <td>NaN</td>\n",
       "    </tr>\n",
       "    <tr>\n",
       "      <th>15507</th>\n",
       "      <td>Zulmi Shikari</td>\n",
       "      <td>(1988)</td>\n",
       "      <td>NaN</td>\n",
       "      <td>Action</td>\n",
       "      <td>NaN</td>\n",
       "      <td>NaN</td>\n",
       "      <td>NaN</td>\n",
       "      <td>NaN</td>\n",
       "      <td>NaN</td>\n",
       "      <td>NaN</td>\n",
       "    </tr>\n",
       "    <tr>\n",
       "      <th>15508</th>\n",
       "      <td>Zulm-O-Sitam</td>\n",
       "      <td>(1998)</td>\n",
       "      <td>130 min</td>\n",
       "      <td>Action, Drama</td>\n",
       "      <td>6.2</td>\n",
       "      <td>20</td>\n",
       "      <td>K.C. Bokadia</td>\n",
       "      <td>Dharmendra</td>\n",
       "      <td>Jaya Prada</td>\n",
       "      <td>Arjun Sarja</td>\n",
       "    </tr>\n",
       "  </tbody>\n",
       "</table>\n",
       "<p>15509 rows × 10 columns</p>\n",
       "</div>"
      ],
      "text/plain": [
       "                                     Name    Year Duration            Genre  \\\n",
       "0                                             NaN      NaN            Drama   \n",
       "1      #Gadhvi (He thought he was Gandhi)  (2019)  109 min            Drama   \n",
       "2                             #Homecoming  (2021)   90 min   Drama, Musical   \n",
       "3                                 #Yaaram  (2019)  110 min  Comedy, Romance   \n",
       "4                       ...And Once Again  (2010)  105 min            Drama   \n",
       "...                                   ...     ...      ...              ...   \n",
       "15504                 Zulm Ko Jala Doonga  (1988)      NaN           Action   \n",
       "15505                               Zulmi  (1999)  129 min    Action, Drama   \n",
       "15506                           Zulmi Raj  (2005)      NaN           Action   \n",
       "15507                       Zulmi Shikari  (1988)      NaN           Action   \n",
       "15508                        Zulm-O-Sitam  (1998)  130 min    Action, Drama   \n",
       "\n",
       "       Rating Votes            Director           Actor 1             Actor 2  \\\n",
       "0         NaN   NaN       J.S. Randhawa          Manmauji              Birbal   \n",
       "1         7.0     8       Gaurav Bakshi      Rasika Dugal      Vivek Ghamande   \n",
       "2         NaN   NaN  Soumyajit Majumdar      Sayani Gupta   Plabita Borthakur   \n",
       "3         4.4    35          Ovais Khan           Prateik          Ishita Raj   \n",
       "4         NaN   NaN        Amol Palekar      Rajat Kapoor  Rituparna Sengupta   \n",
       "...       ...   ...                 ...               ...                 ...   \n",
       "15504     4.6    11       Mahendra Shah  Naseeruddin Shah       Sumeet Saigal   \n",
       "15505     4.5   655          Kuku Kohli      Akshay Kumar      Twinkle Khanna   \n",
       "15506     NaN   NaN          Kiran Thej   Sangeeta Tiwari                 NaN   \n",
       "15507     NaN   NaN                 NaN               NaN                 NaN   \n",
       "15508     6.2    20        K.C. Bokadia        Dharmendra          Jaya Prada   \n",
       "\n",
       "               Actor 3  \n",
       "0      Rajendra Bhatia  \n",
       "1        Arvind Jangid  \n",
       "2           Roy Angana  \n",
       "3      Siddhant Kapoor  \n",
       "4          Antara Mali  \n",
       "...                ...  \n",
       "15504    Suparna Anand  \n",
       "15505      Aruna Irani  \n",
       "15506              NaN  \n",
       "15507              NaN  \n",
       "15508      Arjun Sarja  \n",
       "\n",
       "[15509 rows x 10 columns]"
      ]
     },
     "execution_count": 47,
     "metadata": {},
     "output_type": "execute_result"
    }
   ],
   "source": [
    "variable = pd.read_csv(r\"C:\\Users\\Esther\\Desktop\\Thoko CodSoft Internship\\IMDb Movies India.csv\", encoding='windows-1252')\n",
    "variable"
   ]
  },
  {
   "cell_type": "code",
   "execution_count": 48,
   "id": "1c02a83b",
   "metadata": {
    "scrolled": true,
    "tags": []
   },
   "outputs": [
    {
     "data": {
      "text/html": [
       "<div>\n",
       "<style scoped>\n",
       "    .dataframe tbody tr th:only-of-type {\n",
       "        vertical-align: middle;\n",
       "    }\n",
       "\n",
       "    .dataframe tbody tr th {\n",
       "        vertical-align: top;\n",
       "    }\n",
       "\n",
       "    .dataframe thead th {\n",
       "        text-align: right;\n",
       "    }\n",
       "</style>\n",
       "<table border=\"1\" class=\"dataframe\">\n",
       "  <thead>\n",
       "    <tr style=\"text-align: right;\">\n",
       "      <th></th>\n",
       "      <th>Name</th>\n",
       "      <th>Year</th>\n",
       "      <th>Duration</th>\n",
       "      <th>Genre</th>\n",
       "      <th>Rating</th>\n",
       "      <th>Votes</th>\n",
       "      <th>Director</th>\n",
       "      <th>Actor 1</th>\n",
       "      <th>Actor 2</th>\n",
       "      <th>Actor 3</th>\n",
       "    </tr>\n",
       "  </thead>\n",
       "  <tbody>\n",
       "    <tr>\n",
       "      <th>15504</th>\n",
       "      <td>Zulm Ko Jala Doonga</td>\n",
       "      <td>(1988)</td>\n",
       "      <td>NaN</td>\n",
       "      <td>Action</td>\n",
       "      <td>4.6</td>\n",
       "      <td>11</td>\n",
       "      <td>Mahendra Shah</td>\n",
       "      <td>Naseeruddin Shah</td>\n",
       "      <td>Sumeet Saigal</td>\n",
       "      <td>Suparna Anand</td>\n",
       "    </tr>\n",
       "    <tr>\n",
       "      <th>15505</th>\n",
       "      <td>Zulmi</td>\n",
       "      <td>(1999)</td>\n",
       "      <td>129 min</td>\n",
       "      <td>Action, Drama</td>\n",
       "      <td>4.5</td>\n",
       "      <td>655</td>\n",
       "      <td>Kuku Kohli</td>\n",
       "      <td>Akshay Kumar</td>\n",
       "      <td>Twinkle Khanna</td>\n",
       "      <td>Aruna Irani</td>\n",
       "    </tr>\n",
       "    <tr>\n",
       "      <th>15506</th>\n",
       "      <td>Zulmi Raj</td>\n",
       "      <td>(2005)</td>\n",
       "      <td>NaN</td>\n",
       "      <td>Action</td>\n",
       "      <td>NaN</td>\n",
       "      <td>NaN</td>\n",
       "      <td>Kiran Thej</td>\n",
       "      <td>Sangeeta Tiwari</td>\n",
       "      <td>NaN</td>\n",
       "      <td>NaN</td>\n",
       "    </tr>\n",
       "    <tr>\n",
       "      <th>15507</th>\n",
       "      <td>Zulmi Shikari</td>\n",
       "      <td>(1988)</td>\n",
       "      <td>NaN</td>\n",
       "      <td>Action</td>\n",
       "      <td>NaN</td>\n",
       "      <td>NaN</td>\n",
       "      <td>NaN</td>\n",
       "      <td>NaN</td>\n",
       "      <td>NaN</td>\n",
       "      <td>NaN</td>\n",
       "    </tr>\n",
       "    <tr>\n",
       "      <th>15508</th>\n",
       "      <td>Zulm-O-Sitam</td>\n",
       "      <td>(1998)</td>\n",
       "      <td>130 min</td>\n",
       "      <td>Action, Drama</td>\n",
       "      <td>6.2</td>\n",
       "      <td>20</td>\n",
       "      <td>K.C. Bokadia</td>\n",
       "      <td>Dharmendra</td>\n",
       "      <td>Jaya Prada</td>\n",
       "      <td>Arjun Sarja</td>\n",
       "    </tr>\n",
       "  </tbody>\n",
       "</table>\n",
       "</div>"
      ],
      "text/plain": [
       "                      Name    Year Duration          Genre  Rating Votes  \\\n",
       "15504  Zulm Ko Jala Doonga  (1988)      NaN         Action     4.6    11   \n",
       "15505                Zulmi  (1999)  129 min  Action, Drama     4.5   655   \n",
       "15506            Zulmi Raj  (2005)      NaN         Action     NaN   NaN   \n",
       "15507        Zulmi Shikari  (1988)      NaN         Action     NaN   NaN   \n",
       "15508         Zulm-O-Sitam  (1998)  130 min  Action, Drama     6.2    20   \n",
       "\n",
       "            Director           Actor 1         Actor 2        Actor 3  \n",
       "15504  Mahendra Shah  Naseeruddin Shah   Sumeet Saigal  Suparna Anand  \n",
       "15505     Kuku Kohli      Akshay Kumar  Twinkle Khanna    Aruna Irani  \n",
       "15506     Kiran Thej   Sangeeta Tiwari             NaN            NaN  \n",
       "15507            NaN               NaN             NaN            NaN  \n",
       "15508   K.C. Bokadia        Dharmendra      Jaya Prada    Arjun Sarja  "
      ]
     },
     "execution_count": 48,
     "metadata": {},
     "output_type": "execute_result"
    }
   ],
   "source": [
    "variable.tail(5)\n"
   ]
  },
  {
   "cell_type": "code",
   "execution_count": 49,
   "id": "ed8141e0",
   "metadata": {
    "tags": []
   },
   "outputs": [
    {
     "data": {
      "text/plain": [
       "(15509, 10)"
      ]
     },
     "execution_count": 49,
     "metadata": {},
     "output_type": "execute_result"
    }
   ],
   "source": [
    "variable.shape"
   ]
  },
  {
   "cell_type": "code",
   "execution_count": 50,
   "id": "2bd58cd3",
   "metadata": {
    "tags": []
   },
   "outputs": [
    {
     "name": "stdout",
     "output_type": "stream",
     "text": [
      "<class 'pandas.core.frame.DataFrame'>\n",
      "RangeIndex: 15509 entries, 0 to 15508\n",
      "Data columns (total 10 columns):\n",
      " #   Column    Non-Null Count  Dtype  \n",
      "---  ------    --------------  -----  \n",
      " 0   Name      15509 non-null  object \n",
      " 1   Year      14981 non-null  object \n",
      " 2   Duration  7240 non-null   object \n",
      " 3   Genre     13632 non-null  object \n",
      " 4   Rating    7919 non-null   float64\n",
      " 5   Votes     7920 non-null   object \n",
      " 6   Director  14984 non-null  object \n",
      " 7   Actor 1   13892 non-null  object \n",
      " 8   Actor 2   13125 non-null  object \n",
      " 9   Actor 3   12365 non-null  object \n",
      "dtypes: float64(1), object(9)\n",
      "memory usage: 1.2+ MB\n"
     ]
    }
   ],
   "source": [
    "variable.info()"
   ]
  },
  {
   "cell_type": "code",
   "execution_count": 51,
   "id": "3c654d02",
   "metadata": {
    "tags": []
   },
   "outputs": [
    {
     "name": "stdout",
     "output_type": "stream",
     "text": [
      "Any missing value? True\n"
     ]
    }
   ],
   "source": [
    "print(\"Any missing value?\", variable.isnull().values.any())"
   ]
  },
  {
   "cell_type": "code",
   "execution_count": 52,
   "id": "4faf2434",
   "metadata": {
    "tags": []
   },
   "outputs": [
    {
     "data": {
      "text/plain": [
       "Name           0\n",
       "Year         528\n",
       "Duration    8269\n",
       "Genre       1877\n",
       "Rating      7590\n",
       "Votes       7589\n",
       "Director     525\n",
       "Actor 1     1617\n",
       "Actor 2     2384\n",
       "Actor 3     3144\n",
       "dtype: int64"
      ]
     },
     "execution_count": 52,
     "metadata": {},
     "output_type": "execute_result"
    }
   ],
   "source": [
    "variable.isnull().sum()"
   ]
  },
  {
   "cell_type": "code",
   "execution_count": 53,
   "id": "1aa1c02d",
   "metadata": {
    "tags": []
   },
   "outputs": [
    {
     "data": {
      "text/plain": [
       "<Axes: >"
      ]
     },
     "execution_count": 53,
     "metadata": {},
     "output_type": "execute_result"
    },
    {
     "data": {
      "image/png": "[encoded data removed]",
      "text/plain": [
       "<Figure size 640x480 with 2 Axes>"
      ]
     },
     "metadata": {},
     "output_type": "display_data"
    }
   ],
   "source": [
    "sns.heatmap(variable.isnull())"
   ]
  },
  {
   "cell_type": "code",
   "execution_count": 54,
   "id": "dac0b219",
   "metadata": {
    "tags": []
   },
   "outputs": [
    {
     "name": "stdout",
     "output_type": "stream",
     "text": [
      "Name         0.000000\n",
      "Year         3.404475\n",
      "Duration    53.317429\n",
      "Genre       12.102650\n",
      "Rating      48.939326\n",
      "Votes       48.932878\n",
      "Director     3.385131\n",
      "Actor 1     10.426204\n",
      "Actor 2     15.371720\n",
      "Actor 3     20.272100\n",
      "dtype: float64\n"
     ]
    }
   ],
   "source": [
    "percentage_missing=variable.isnull().sum()*100/len(variable)\n",
    "print(percentage_missing)"
   ]
  },
  {
   "cell_type": "code",
   "execution_count": 55,
   "id": "375c8685",
   "metadata": {
    "tags": []
   },
   "outputs": [
    {
     "data": {
      "image/png": "[encoded data removed]",
      "text/plain": [
       "<Figure size 800x600 with 1 Axes>"
      ]
     },
     "metadata": {},
     "output_type": "display_data"
    }
   ],
   "source": [
    "plt.figure(figsize=(8, 6))\n",
    "plt.pie(percentage_missing, labels=percentage_missing.index, autopct='%1.1f%%', startangle=140)\n",
    "plt.title('Movie Rating Percentage of Missing Data')\n",
    "plt.show()\n"
   ]
  },
  {
   "cell_type": "code",
   "execution_count": 56,
   "id": "5678f727",
   "metadata": {
    "tags": []
   },
   "outputs": [
    {
     "name": "stdout",
     "output_type": "stream",
     "text": [
      "Are there any duplicate values? True\n"
     ]
    }
   ],
   "source": [
    "duplicates=variable.duplicated().any()\n",
    "print(\"Are there any duplicate values?\",duplicates)"
   ]
  },
  {
   "cell_type": "code",
   "execution_count": 57,
   "id": "5d2d4ca6",
   "metadata": {
    "tags": []
   },
   "outputs": [
    {
     "data": {
      "text/plain": [
       "6"
      ]
     },
     "execution_count": 57,
     "metadata": {},
     "output_type": "execute_result"
    }
   ],
   "source": [
    "variable.duplicated().sum()"
   ]
  },
  {
   "cell_type": "code",
   "execution_count": 58,
   "id": "eb66037e",
   "metadata": {
    "tags": []
   },
   "outputs": [
    {
     "data": {
      "text/html": [
       "<div>\n",
       "<style scoped>\n",
       "    .dataframe tbody tr th:only-of-type {\n",
       "        vertical-align: middle;\n",
       "    }\n",
       "\n",
       "    .dataframe tbody tr th {\n",
       "        vertical-align: top;\n",
       "    }\n",
       "\n",
       "    .dataframe thead th {\n",
       "        text-align: right;\n",
       "    }\n",
       "</style>\n",
       "<table border=\"1\" class=\"dataframe\">\n",
       "  <thead>\n",
       "    <tr style=\"text-align: right;\">\n",
       "      <th></th>\n",
       "      <th>Name</th>\n",
       "      <th>Year</th>\n",
       "      <th>Duration</th>\n",
       "      <th>Genre</th>\n",
       "      <th>Rating</th>\n",
       "      <th>Votes</th>\n",
       "      <th>Director</th>\n",
       "      <th>Actor 1</th>\n",
       "      <th>Actor 2</th>\n",
       "      <th>Actor 3</th>\n",
       "    </tr>\n",
       "  </thead>\n",
       "  <tbody>\n",
       "    <tr>\n",
       "      <th>count</th>\n",
       "      <td>15509</td>\n",
       "      <td>14981</td>\n",
       "      <td>7240</td>\n",
       "      <td>13632</td>\n",
       "      <td>7919.000000</td>\n",
       "      <td>7920</td>\n",
       "      <td>14984</td>\n",
       "      <td>13892</td>\n",
       "      <td>13125</td>\n",
       "      <td>12365</td>\n",
       "    </tr>\n",
       "    <tr>\n",
       "      <th>unique</th>\n",
       "      <td>13838</td>\n",
       "      <td>102</td>\n",
       "      <td>182</td>\n",
       "      <td>485</td>\n",
       "      <td>NaN</td>\n",
       "      <td>2034</td>\n",
       "      <td>5938</td>\n",
       "      <td>4718</td>\n",
       "      <td>4891</td>\n",
       "      <td>4820</td>\n",
       "    </tr>\n",
       "    <tr>\n",
       "      <th>top</th>\n",
       "      <td>Anjaam</td>\n",
       "      <td>(2019)</td>\n",
       "      <td>120 min</td>\n",
       "      <td>Drama</td>\n",
       "      <td>NaN</td>\n",
       "      <td>8</td>\n",
       "      <td>Jayant Desai</td>\n",
       "      <td>Ashok Kumar</td>\n",
       "      <td>Rekha</td>\n",
       "      <td>Pran</td>\n",
       "    </tr>\n",
       "    <tr>\n",
       "      <th>freq</th>\n",
       "      <td>7</td>\n",
       "      <td>410</td>\n",
       "      <td>240</td>\n",
       "      <td>2780</td>\n",
       "      <td>NaN</td>\n",
       "      <td>227</td>\n",
       "      <td>58</td>\n",
       "      <td>158</td>\n",
       "      <td>83</td>\n",
       "      <td>91</td>\n",
       "    </tr>\n",
       "    <tr>\n",
       "      <th>mean</th>\n",
       "      <td>NaN</td>\n",
       "      <td>NaN</td>\n",
       "      <td>NaN</td>\n",
       "      <td>NaN</td>\n",
       "      <td>5.841621</td>\n",
       "      <td>NaN</td>\n",
       "      <td>NaN</td>\n",
       "      <td>NaN</td>\n",
       "      <td>NaN</td>\n",
       "      <td>NaN</td>\n",
       "    </tr>\n",
       "    <tr>\n",
       "      <th>std</th>\n",
       "      <td>NaN</td>\n",
       "      <td>NaN</td>\n",
       "      <td>NaN</td>\n",
       "      <td>NaN</td>\n",
       "      <td>1.381777</td>\n",
       "      <td>NaN</td>\n",
       "      <td>NaN</td>\n",
       "      <td>NaN</td>\n",
       "      <td>NaN</td>\n",
       "      <td>NaN</td>\n",
       "    </tr>\n",
       "    <tr>\n",
       "      <th>min</th>\n",
       "      <td>NaN</td>\n",
       "      <td>NaN</td>\n",
       "      <td>NaN</td>\n",
       "      <td>NaN</td>\n",
       "      <td>1.100000</td>\n",
       "      <td>NaN</td>\n",
       "      <td>NaN</td>\n",
       "      <td>NaN</td>\n",
       "      <td>NaN</td>\n",
       "      <td>NaN</td>\n",
       "    </tr>\n",
       "    <tr>\n",
       "      <th>25%</th>\n",
       "      <td>NaN</td>\n",
       "      <td>NaN</td>\n",
       "      <td>NaN</td>\n",
       "      <td>NaN</td>\n",
       "      <td>4.900000</td>\n",
       "      <td>NaN</td>\n",
       "      <td>NaN</td>\n",
       "      <td>NaN</td>\n",
       "      <td>NaN</td>\n",
       "      <td>NaN</td>\n",
       "    </tr>\n",
       "    <tr>\n",
       "      <th>50%</th>\n",
       "      <td>NaN</td>\n",
       "      <td>NaN</td>\n",
       "      <td>NaN</td>\n",
       "      <td>NaN</td>\n",
       "      <td>6.000000</td>\n",
       "      <td>NaN</td>\n",
       "      <td>NaN</td>\n",
       "      <td>NaN</td>\n",
       "      <td>NaN</td>\n",
       "      <td>NaN</td>\n",
       "    </tr>\n",
       "    <tr>\n",
       "      <th>75%</th>\n",
       "      <td>NaN</td>\n",
       "      <td>NaN</td>\n",
       "      <td>NaN</td>\n",
       "      <td>NaN</td>\n",
       "      <td>6.800000</td>\n",
       "      <td>NaN</td>\n",
       "      <td>NaN</td>\n",
       "      <td>NaN</td>\n",
       "      <td>NaN</td>\n",
       "      <td>NaN</td>\n",
       "    </tr>\n",
       "    <tr>\n",
       "      <th>max</th>\n",
       "      <td>NaN</td>\n",
       "      <td>NaN</td>\n",
       "      <td>NaN</td>\n",
       "      <td>NaN</td>\n",
       "      <td>10.000000</td>\n",
       "      <td>NaN</td>\n",
       "      <td>NaN</td>\n",
       "      <td>NaN</td>\n",
       "      <td>NaN</td>\n",
       "      <td>NaN</td>\n",
       "    </tr>\n",
       "  </tbody>\n",
       "</table>\n",
       "</div>"
      ],
      "text/plain": [
       "          Name    Year Duration  Genre       Rating Votes      Director  \\\n",
       "count    15509   14981     7240  13632  7919.000000  7920         14984   \n",
       "unique   13838     102      182    485          NaN  2034          5938   \n",
       "top     Anjaam  (2019)  120 min  Drama          NaN     8  Jayant Desai   \n",
       "freq         7     410      240   2780          NaN   227            58   \n",
       "mean       NaN     NaN      NaN    NaN     5.841621   NaN           NaN   \n",
       "std        NaN     NaN      NaN    NaN     1.381777   NaN           NaN   \n",
       "min        NaN     NaN      NaN    NaN     1.100000   NaN           NaN   \n",
       "25%        NaN     NaN      NaN    NaN     4.900000   NaN           NaN   \n",
       "50%        NaN     NaN      NaN    NaN     6.000000   NaN           NaN   \n",
       "75%        NaN     NaN      NaN    NaN     6.800000   NaN           NaN   \n",
       "max        NaN     NaN      NaN    NaN    10.000000   NaN           NaN   \n",
       "\n",
       "            Actor 1 Actor 2 Actor 3  \n",
       "count         13892   13125   12365  \n",
       "unique         4718    4891    4820  \n",
       "top     Ashok Kumar   Rekha    Pran  \n",
       "freq            158      83      91  \n",
       "mean            NaN     NaN     NaN  \n",
       "std             NaN     NaN     NaN  \n",
       "min             NaN     NaN     NaN  \n",
       "25%             NaN     NaN     NaN  \n",
       "50%             NaN     NaN     NaN  \n",
       "75%             NaN     NaN     NaN  \n",
       "max             NaN     NaN     NaN  "
      ]
     },
     "execution_count": 58,
     "metadata": {},
     "output_type": "execute_result"
    }
   ],
   "source": [
    "variable.describe(include='all')"
   ]
  },
  {
   "cell_type": "code",
   "execution_count": 59,
   "id": "ae72ca75",
   "metadata": {
    "tags": []
   },
   "outputs": [
    {
     "data": {
      "text/plain": [
       "Index(['Name', 'Year', 'Duration', 'Genre', 'Rating', 'Votes', 'Director',\n",
       "       'Actor 1', 'Actor 2', 'Actor 3'],\n",
       "      dtype='object')"
      ]
     },
     "execution_count": 59,
     "metadata": {},
     "output_type": "execute_result"
    }
   ],
   "source": [
    "variable.columns"
   ]
  },
  {
   "cell_type": "code",
   "execution_count": 60,
   "id": "4e590f7a",
   "metadata": {
    "tags": []
   },
   "outputs": [
    {
     "name": "stdout",
     "output_type": "stream",
     "text": [
      "Name         object\n",
      "Year         object\n",
      "Duration     object\n",
      "Genre        object\n",
      "Rating      float64\n",
      "Votes        object\n",
      "Director     object\n",
      "Actor 1      object\n",
      "Actor 2      object\n",
      "Actor 3      object\n",
      "dtype: object\n"
     ]
    }
   ],
   "source": [
    "print(variable.dtypes)"
   ]
  },
  {
   "cell_type": "code",
   "execution_count": 20,
   "id": "90f225a1",
   "metadata": {
    "tags": []
   },
   "outputs": [
    {
     "name": "stdout",
     "output_type": "stream",
     "text": [
      "527\n",
      "7583\n"
     ]
    }
   ],
   "source": [
    "print(variable['Year'].isnull().sum())\n",
    "print(variable['Votes'].isnull().sum())"
   ]
  },
  {
   "cell_type": "code",
   "execution_count": 21,
   "id": "ec9747b2",
   "metadata": {
    "tags": []
   },
   "outputs": [
    {
     "data": {
      "text/html": [
       "<div>\n",
       "<style scoped>\n",
       "    .dataframe tbody tr th:only-of-type {\n",
       "        vertical-align: middle;\n",
       "    }\n",
       "\n",
       "    .dataframe tbody tr th {\n",
       "        vertical-align: top;\n",
       "    }\n",
       "\n",
       "    .dataframe thead th {\n",
       "        text-align: right;\n",
       "    }\n",
       "</style>\n",
       "<table border=\"1\" class=\"dataframe\">\n",
       "  <thead>\n",
       "    <tr style=\"text-align: right;\">\n",
       "      <th></th>\n",
       "      <th>Name</th>\n",
       "      <th>Year</th>\n",
       "      <th>Duration</th>\n",
       "      <th>Genre</th>\n",
       "      <th>Rating</th>\n",
       "      <th>Votes</th>\n",
       "      <th>Director</th>\n",
       "      <th>Actor 1</th>\n",
       "      <th>Actor 2</th>\n",
       "      <th>Actor 3</th>\n",
       "    </tr>\n",
       "  </thead>\n",
       "  <tbody>\n",
       "    <tr>\n",
       "      <th>967</th>\n",
       "      <td>An Insignificant Man</td>\n",
       "      <td>(2016)</td>\n",
       "      <td>96 min</td>\n",
       "      <td>Documentary, Thriller</td>\n",
       "      <td>8.7</td>\n",
       "      <td>1,928</td>\n",
       "      <td>Khushboo Ranka</td>\n",
       "      <td>Vinay Shukla</td>\n",
       "      <td>Arvind Kejriwal</td>\n",
       "      <td>Saurabh Bhardwaj</td>\n",
       "    </tr>\n",
       "    <tr>\n",
       "      <th>1314</th>\n",
       "      <td>Ashok Vatika</td>\n",
       "      <td>(2018)</td>\n",
       "      <td>97 min</td>\n",
       "      <td>Drama</td>\n",
       "      <td>9.3</td>\n",
       "      <td>7</td>\n",
       "      <td>Rahul Mallick</td>\n",
       "      <td>Kunj Anand</td>\n",
       "      <td>Sanjay Bishnoi</td>\n",
       "      <td>Paras Zutshi</td>\n",
       "    </tr>\n",
       "    <tr>\n",
       "      <th>1341</th>\n",
       "      <td>Atal Faisla</td>\n",
       "      <td>(2018)</td>\n",
       "      <td>127 min</td>\n",
       "      <td>Drama</td>\n",
       "      <td>8.8</td>\n",
       "      <td>5</td>\n",
       "      <td>Abdul Sattar</td>\n",
       "      <td>Sahil Akhtar</td>\n",
       "      <td>Himayat Ali</td>\n",
       "      <td>Aman Jain</td>\n",
       "    </tr>\n",
       "    <tr>\n",
       "      <th>1432</th>\n",
       "      <td>Awasaan</td>\n",
       "      <td>(2020)</td>\n",
       "      <td>101 min</td>\n",
       "      <td>Drama</td>\n",
       "      <td>8.7</td>\n",
       "      <td>21</td>\n",
       "      <td>Rajat Kumar Chaturvedi</td>\n",
       "      <td>Arjun Chakrabarty</td>\n",
       "      <td>Trishala Idnani</td>\n",
       "      <td>Sarvagya Jain</td>\n",
       "    </tr>\n",
       "    <tr>\n",
       "      <th>1469</th>\n",
       "      <td>B for Bundelkhand</td>\n",
       "      <td>(2017)</td>\n",
       "      <td>117 min</td>\n",
       "      <td>Drama</td>\n",
       "      <td>8.8</td>\n",
       "      <td>5</td>\n",
       "      <td>Vishal Mourya</td>\n",
       "      <td>Bharat Chawla</td>\n",
       "      <td>Nemi Chandra Jha</td>\n",
       "      <td>Moumita Nandi</td>\n",
       "    </tr>\n",
       "    <tr>\n",
       "      <th>...</th>\n",
       "      <td>...</td>\n",
       "      <td>...</td>\n",
       "      <td>...</td>\n",
       "      <td>...</td>\n",
       "      <td>...</td>\n",
       "      <td>...</td>\n",
       "      <td>...</td>\n",
       "      <td>...</td>\n",
       "      <td>...</td>\n",
       "      <td>...</td>\n",
       "    </tr>\n",
       "    <tr>\n",
       "      <th>14861</th>\n",
       "      <td>Vidyoday</td>\n",
       "      <td>(2018)</td>\n",
       "      <td>108 min</td>\n",
       "      <td>Documentary</td>\n",
       "      <td>9.2</td>\n",
       "      <td>35</td>\n",
       "      <td>Vidhi Kasliwal</td>\n",
       "      <td>Aarti S. Bagdi</td>\n",
       "      <td>Alok Nath</td>\n",
       "      <td>NaN</td>\n",
       "    </tr>\n",
       "    <tr>\n",
       "      <th>14898</th>\n",
       "      <td>Viraat</td>\n",
       "      <td>(2021)</td>\n",
       "      <td>150 min</td>\n",
       "      <td>Crime</td>\n",
       "      <td>8.9</td>\n",
       "      <td>294</td>\n",
       "      <td>Narendra Singh</td>\n",
       "      <td>Kritika Sachdeva</td>\n",
       "      <td>Ravi Jhanghu</td>\n",
       "      <td>Lokesh Tilakdhari</td>\n",
       "    </tr>\n",
       "    <tr>\n",
       "      <th>15071</th>\n",
       "      <td>Win Marathon</td>\n",
       "      <td>(2018)</td>\n",
       "      <td>94 min</td>\n",
       "      <td>Drama, Sport</td>\n",
       "      <td>9.0</td>\n",
       "      <td>70</td>\n",
       "      <td>Aryan Neeraaj Anand</td>\n",
       "      <td>Shubhanshu Satyadeo</td>\n",
       "      <td>Aryan Neeraaj Anand</td>\n",
       "      <td>Ankita Bahuguna</td>\n",
       "    </tr>\n",
       "    <tr>\n",
       "      <th>15199</th>\n",
       "      <td>Yatrik</td>\n",
       "      <td>(1952)</td>\n",
       "      <td>NaN</td>\n",
       "      <td>Drama</td>\n",
       "      <td>8.8</td>\n",
       "      <td>8</td>\n",
       "      <td>Kartick Chattopadhyay</td>\n",
       "      <td>Vasant Choudhury</td>\n",
       "      <td>Arundhati Devi</td>\n",
       "      <td>Tulsi Chakraborty</td>\n",
       "    </tr>\n",
       "    <tr>\n",
       "      <th>15288</th>\n",
       "      <td>Yeh Suhaagraat Impossible</td>\n",
       "      <td>(2019)</td>\n",
       "      <td>92 min</td>\n",
       "      <td>Comedy</td>\n",
       "      <td>8.6</td>\n",
       "      <td>500</td>\n",
       "      <td>Abhinav Thakur</td>\n",
       "      <td>Preetika Chauhan</td>\n",
       "      <td>Aarav Mavi</td>\n",
       "      <td>Aloknath Pathak</td>\n",
       "    </tr>\n",
       "  </tbody>\n",
       "</table>\n",
       "<p>99 rows × 10 columns</p>\n",
       "</div>"
      ],
      "text/plain": [
       "                            Name    Year Duration                  Genre  \\\n",
       "967         An Insignificant Man  (2016)   96 min  Documentary, Thriller   \n",
       "1314                Ashok Vatika  (2018)   97 min                  Drama   \n",
       "1341                 Atal Faisla  (2018)  127 min                  Drama   \n",
       "1432                     Awasaan  (2020)  101 min                  Drama   \n",
       "1469           B for Bundelkhand  (2017)  117 min                  Drama   \n",
       "...                          ...     ...      ...                    ...   \n",
       "14861                   Vidyoday  (2018)  108 min            Documentary   \n",
       "14898                     Viraat  (2021)  150 min                  Crime   \n",
       "15071               Win Marathon  (2018)   94 min           Drama, Sport   \n",
       "15199                     Yatrik  (1952)      NaN                  Drama   \n",
       "15288  Yeh Suhaagraat Impossible  (2019)   92 min                 Comedy   \n",
       "\n",
       "       Rating  Votes                Director              Actor 1  \\\n",
       "967       8.7  1,928          Khushboo Ranka         Vinay Shukla   \n",
       "1314      9.3      7           Rahul Mallick           Kunj Anand   \n",
       "1341      8.8      5            Abdul Sattar         Sahil Akhtar   \n",
       "1432      8.7     21  Rajat Kumar Chaturvedi    Arjun Chakrabarty   \n",
       "1469      8.8      5           Vishal Mourya        Bharat Chawla   \n",
       "...       ...    ...                     ...                  ...   \n",
       "14861     9.2     35          Vidhi Kasliwal       Aarti S. Bagdi   \n",
       "14898     8.9    294          Narendra Singh     Kritika Sachdeva   \n",
       "15071     9.0     70     Aryan Neeraaj Anand  Shubhanshu Satyadeo   \n",
       "15199     8.8      8   Kartick Chattopadhyay     Vasant Choudhury   \n",
       "15288     8.6    500          Abhinav Thakur     Preetika Chauhan   \n",
       "\n",
       "                   Actor 2            Actor 3  \n",
       "967        Arvind Kejriwal   Saurabh Bhardwaj  \n",
       "1314        Sanjay Bishnoi       Paras Zutshi  \n",
       "1341           Himayat Ali          Aman Jain  \n",
       "1432       Trishala Idnani      Sarvagya Jain  \n",
       "1469      Nemi Chandra Jha      Moumita Nandi  \n",
       "...                    ...                ...  \n",
       "14861            Alok Nath                NaN  \n",
       "14898         Ravi Jhanghu  Lokesh Tilakdhari  \n",
       "15071  Aryan Neeraaj Anand    Ankita Bahuguna  \n",
       "15199       Arundhati Devi  Tulsi Chakraborty  \n",
       "15288           Aarav Mavi    Aloknath Pathak  \n",
       "\n",
       "[99 rows x 10 columns]"
      ]
     },
     "execution_count": 21,
     "metadata": {},
     "output_type": "execute_result"
    }
   ],
   "source": [
    "high_rating_movies = variable[variable['Rating'] > 8.5]\n",
    "high_rating_movies"
   ]
  },
  {
   "cell_type": "code",
   "execution_count": 22,
   "id": "c6eaff3b",
   "metadata": {
    "tags": []
   },
   "outputs": [
    {
     "data": {
      "text/html": [
       "<div>\n",
       "<style scoped>\n",
       "    .dataframe tbody tr th:only-of-type {\n",
       "        vertical-align: middle;\n",
       "    }\n",
       "\n",
       "    .dataframe tbody tr th {\n",
       "        vertical-align: top;\n",
       "    }\n",
       "\n",
       "    .dataframe thead th {\n",
       "        text-align: right;\n",
       "    }\n",
       "</style>\n",
       "<table border=\"1\" class=\"dataframe\">\n",
       "  <thead>\n",
       "    <tr style=\"text-align: right;\">\n",
       "      <th></th>\n",
       "      <th>Rating</th>\n",
       "      <th>Number of Movies</th>\n",
       "    </tr>\n",
       "  </thead>\n",
       "  <tbody>\n",
       "    <tr>\n",
       "      <th>11</th>\n",
       "      <td>10.0</td>\n",
       "      <td>1</td>\n",
       "    </tr>\n",
       "    <tr>\n",
       "      <th>10</th>\n",
       "      <td>9.7</td>\n",
       "      <td>1</td>\n",
       "    </tr>\n",
       "    <tr>\n",
       "      <th>9</th>\n",
       "      <td>9.6</td>\n",
       "      <td>1</td>\n",
       "    </tr>\n",
       "    <tr>\n",
       "      <th>8</th>\n",
       "      <td>9.4</td>\n",
       "      <td>4</td>\n",
       "    </tr>\n",
       "    <tr>\n",
       "      <th>7</th>\n",
       "      <td>9.3</td>\n",
       "      <td>9</td>\n",
       "    </tr>\n",
       "    <tr>\n",
       "      <th>6</th>\n",
       "      <td>9.2</td>\n",
       "      <td>3</td>\n",
       "    </tr>\n",
       "    <tr>\n",
       "      <th>5</th>\n",
       "      <td>9.1</td>\n",
       "      <td>9</td>\n",
       "    </tr>\n",
       "    <tr>\n",
       "      <th>4</th>\n",
       "      <td>9.0</td>\n",
       "      <td>12</td>\n",
       "    </tr>\n",
       "    <tr>\n",
       "      <th>3</th>\n",
       "      <td>8.9</td>\n",
       "      <td>10</td>\n",
       "    </tr>\n",
       "    <tr>\n",
       "      <th>2</th>\n",
       "      <td>8.8</td>\n",
       "      <td>11</td>\n",
       "    </tr>\n",
       "    <tr>\n",
       "      <th>1</th>\n",
       "      <td>8.7</td>\n",
       "      <td>15</td>\n",
       "    </tr>\n",
       "    <tr>\n",
       "      <th>0</th>\n",
       "      <td>8.6</td>\n",
       "      <td>23</td>\n",
       "    </tr>\n",
       "  </tbody>\n",
       "</table>\n",
       "</div>"
      ],
      "text/plain": [
       "    Rating  Number of Movies\n",
       "11    10.0                 1\n",
       "10     9.7                 1\n",
       "9      9.6                 1\n",
       "8      9.4                 4\n",
       "7      9.3                 9\n",
       "6      9.2                 3\n",
       "5      9.1                 9\n",
       "4      9.0                12\n",
       "3      8.9                10\n",
       "2      8.8                11\n",
       "1      8.7                15\n",
       "0      8.6                23"
      ]
     },
     "execution_count": 22,
     "metadata": {},
     "output_type": "execute_result"
    }
   ],
   "source": [
    "rating_counts = high_rating_movies.groupby('Rating')['Name'].count().reset_index()\n",
    "rating_counts.columns = ['Rating', 'Number of Movies']\n",
    "rating_counts = rating_counts.sort_values(by='Rating', ascending=False)\n",
    "rating_counts"
   ]
  },
  {
   "cell_type": "code",
   "execution_count": 69,
   "id": "e219b865-6f15-495b-9f97-d33ab8a61df0",
   "metadata": {
    "tags": []
   },
   "outputs": [
    {
     "name": "stdout",
     "output_type": "stream",
     "text": [
      "Name        0\n",
      "Year        0\n",
      "Duration    0\n",
      "Genre       0\n",
      "Rating      0\n",
      "Votes       0\n",
      "Director    0\n",
      "Actor 1     0\n",
      "Actor 2     0\n",
      "Actor 3     0\n",
      "dtype: int64\n",
      "      Name    Year    Duration    Genre    Rating   Votes    Director  \\\n",
      "0  Movie A  2020.0  120.000000   Action  4.500000  1000.0    John Doe   \n",
      "1  Unknown  2021.0  150.000000   Comedy  4.166667  1500.0     Unknown   \n",
      "2  Movie C  2021.0  123.333333    Drama  3.800000  1100.0  Jane Smith   \n",
      "3  Movie D  2023.0  100.000000  Unknown  4.200000   800.0   David Lee   \n",
      "\n",
      "   Actor 1  Actor 2  Actor 3  \n",
      "0  Actor A  Unknown  Actor H  \n",
      "1  Actor B  Actor E  Actor I  \n",
      "2  Unknown  Actor F  Actor J  \n",
      "3  Actor D  Actor G  Unknown  \n"
     ]
    }
   ],
   "source": [
    "\n",
    "# Sample DataFrame (replace with your actual data)\n",
    "data = {'Name': ['Movie A', np.nan, 'Movie C', 'Movie D'],\n",
    "        'Year': [2020, 2021, np.nan, 2023],\n",
    "        'Duration': [120, 150, np.nan, 100],\n",
    "        'Genre': ['Action', 'Comedy', 'Drama', np.nan],\n",
    "        'Rating': [4.5, np.nan, 3.8, 4.2],\n",
    "        'Votes': [1000, 1500, np.nan, 800],\n",
    "        'Director': ['John Doe', np.nan, 'Jane Smith', 'David Lee'],\n",
    "        'Actor 1': ['Actor A', 'Actor B', np.nan, 'Actor D'],\n",
    "        'Actor 2': [np.nan, 'Actor E', 'Actor F', 'Actor G'],\n",
    "        'Actor 3': ['Actor H', 'Actor I', 'Actor J', np.nan]}\n",
    "df = pd.DataFrame(data)\n",
    "\n",
    "# Columns to impute with mean \n",
    "columns_to_impute_mean = ['Duration', 'Votes', 'Rating'] \n",
    "\n",
    "# Impute missing values in specified columns with their respective means\n",
    "for col in columns_to_impute_mean:\n",
    "    variable[col].fillna(variable[col].mean(), inplace=True) \n",
    "\n",
    "# Handle missing values in other columns \n",
    "for col in ['Name', 'Director', 'Actor 1', 'Actor 2', 'Actor 3', 'Genre']: \n",
    "    df[col].fillna('Unknown', inplace=True) \n",
    "\n",
    "# Handle missing values in 'Year' (example: using median)\n",
    "variable['Year'].fillna(variable['Year'].median(), inplace=True) \n",
    "\n",
    "# Check for remaining missing values\n",
    "print(variable.isnull().sum()) \n",
    "\n",
    "print(variable) "
   ]
  },
  {
   "cell_type": "code",
   "execution_count": 70,
   "id": "0bff0c06-5f8b-4c2c-9fe6-16420666d63a",
   "metadata": {
    "tags": []
   },
   "outputs": [
    {
     "data": {
      "text/html": [
       "<div>\n",
       "<style scoped>\n",
       "    .dataframe tbody tr th:only-of-type {\n",
       "        vertical-align: middle;\n",
       "    }\n",
       "\n",
       "    .dataframe tbody tr th {\n",
       "        vertical-align: top;\n",
       "    }\n",
       "\n",
       "    .dataframe thead th {\n",
       "        text-align: right;\n",
       "    }\n",
       "</style>\n",
       "<table border=\"1\" class=\"dataframe\">\n",
       "  <thead>\n",
       "    <tr style=\"text-align: right;\">\n",
       "      <th></th>\n",
       "      <th>Name</th>\n",
       "      <th>Year</th>\n",
       "      <th>Duration</th>\n",
       "      <th>Genre</th>\n",
       "      <th>Rating</th>\n",
       "      <th>Votes</th>\n",
       "      <th>Director</th>\n",
       "      <th>Actor 1</th>\n",
       "      <th>Actor 2</th>\n",
       "      <th>Actor 3</th>\n",
       "    </tr>\n",
       "  </thead>\n",
       "  <tbody>\n",
       "    <tr>\n",
       "      <th>count</th>\n",
       "      <td>4</td>\n",
       "      <td>4.000000</td>\n",
       "      <td>4.000000</td>\n",
       "      <td>4</td>\n",
       "      <td>4.000000</td>\n",
       "      <td>4.000000</td>\n",
       "      <td>4</td>\n",
       "      <td>4</td>\n",
       "      <td>4</td>\n",
       "      <td>4</td>\n",
       "    </tr>\n",
       "    <tr>\n",
       "      <th>unique</th>\n",
       "      <td>4</td>\n",
       "      <td>NaN</td>\n",
       "      <td>NaN</td>\n",
       "      <td>4</td>\n",
       "      <td>NaN</td>\n",
       "      <td>NaN</td>\n",
       "      <td>4</td>\n",
       "      <td>4</td>\n",
       "      <td>4</td>\n",
       "      <td>4</td>\n",
       "    </tr>\n",
       "    <tr>\n",
       "      <th>top</th>\n",
       "      <td>Movie A</td>\n",
       "      <td>NaN</td>\n",
       "      <td>NaN</td>\n",
       "      <td>Action</td>\n",
       "      <td>NaN</td>\n",
       "      <td>NaN</td>\n",
       "      <td>John Doe</td>\n",
       "      <td>Actor A</td>\n",
       "      <td>Unknown</td>\n",
       "      <td>Actor H</td>\n",
       "    </tr>\n",
       "    <tr>\n",
       "      <th>freq</th>\n",
       "      <td>1</td>\n",
       "      <td>NaN</td>\n",
       "      <td>NaN</td>\n",
       "      <td>1</td>\n",
       "      <td>NaN</td>\n",
       "      <td>NaN</td>\n",
       "      <td>1</td>\n",
       "      <td>1</td>\n",
       "      <td>1</td>\n",
       "      <td>1</td>\n",
       "    </tr>\n",
       "    <tr>\n",
       "      <th>mean</th>\n",
       "      <td>NaN</td>\n",
       "      <td>2021.250000</td>\n",
       "      <td>123.333333</td>\n",
       "      <td>NaN</td>\n",
       "      <td>4.166667</td>\n",
       "      <td>1100.000000</td>\n",
       "      <td>NaN</td>\n",
       "      <td>NaN</td>\n",
       "      <td>NaN</td>\n",
       "      <td>NaN</td>\n",
       "    </tr>\n",
       "    <tr>\n",
       "      <th>std</th>\n",
       "      <td>NaN</td>\n",
       "      <td>1.258306</td>\n",
       "      <td>20.548047</td>\n",
       "      <td>NaN</td>\n",
       "      <td>0.286744</td>\n",
       "      <td>294.392029</td>\n",
       "      <td>NaN</td>\n",
       "      <td>NaN</td>\n",
       "      <td>NaN</td>\n",
       "      <td>NaN</td>\n",
       "    </tr>\n",
       "    <tr>\n",
       "      <th>min</th>\n",
       "      <td>NaN</td>\n",
       "      <td>2020.000000</td>\n",
       "      <td>100.000000</td>\n",
       "      <td>NaN</td>\n",
       "      <td>3.800000</td>\n",
       "      <td>800.000000</td>\n",
       "      <td>NaN</td>\n",
       "      <td>NaN</td>\n",
       "      <td>NaN</td>\n",
       "      <td>NaN</td>\n",
       "    </tr>\n",
       "    <tr>\n",
       "      <th>25%</th>\n",
       "      <td>NaN</td>\n",
       "      <td>2020.750000</td>\n",
       "      <td>115.000000</td>\n",
       "      <td>NaN</td>\n",
       "      <td>4.075000</td>\n",
       "      <td>950.000000</td>\n",
       "      <td>NaN</td>\n",
       "      <td>NaN</td>\n",
       "      <td>NaN</td>\n",
       "      <td>NaN</td>\n",
       "    </tr>\n",
       "    <tr>\n",
       "      <th>50%</th>\n",
       "      <td>NaN</td>\n",
       "      <td>2021.000000</td>\n",
       "      <td>121.666667</td>\n",
       "      <td>NaN</td>\n",
       "      <td>4.183333</td>\n",
       "      <td>1050.000000</td>\n",
       "      <td>NaN</td>\n",
       "      <td>NaN</td>\n",
       "      <td>NaN</td>\n",
       "      <td>NaN</td>\n",
       "    </tr>\n",
       "    <tr>\n",
       "      <th>75%</th>\n",
       "      <td>NaN</td>\n",
       "      <td>2021.500000</td>\n",
       "      <td>130.000000</td>\n",
       "      <td>NaN</td>\n",
       "      <td>4.275000</td>\n",
       "      <td>1200.000000</td>\n",
       "      <td>NaN</td>\n",
       "      <td>NaN</td>\n",
       "      <td>NaN</td>\n",
       "      <td>NaN</td>\n",
       "    </tr>\n",
       "    <tr>\n",
       "      <th>max</th>\n",
       "      <td>NaN</td>\n",
       "      <td>2023.000000</td>\n",
       "      <td>150.000000</td>\n",
       "      <td>NaN</td>\n",
       "      <td>4.500000</td>\n",
       "      <td>1500.000000</td>\n",
       "      <td>NaN</td>\n",
       "      <td>NaN</td>\n",
       "      <td>NaN</td>\n",
       "      <td>NaN</td>\n",
       "    </tr>\n",
       "  </tbody>\n",
       "</table>\n",
       "</div>"
      ],
      "text/plain": [
       "           Name         Year    Duration   Genre    Rating        Votes  \\\n",
       "count         4     4.000000    4.000000       4  4.000000     4.000000   \n",
       "unique        4          NaN         NaN       4       NaN          NaN   \n",
       "top     Movie A          NaN         NaN  Action       NaN          NaN   \n",
       "freq          1          NaN         NaN       1       NaN          NaN   \n",
       "mean        NaN  2021.250000  123.333333     NaN  4.166667  1100.000000   \n",
       "std         NaN     1.258306   20.548047     NaN  0.286744   294.392029   \n",
       "min         NaN  2020.000000  100.000000     NaN  3.800000   800.000000   \n",
       "25%         NaN  2020.750000  115.000000     NaN  4.075000   950.000000   \n",
       "50%         NaN  2021.000000  121.666667     NaN  4.183333  1050.000000   \n",
       "75%         NaN  2021.500000  130.000000     NaN  4.275000  1200.000000   \n",
       "max         NaN  2023.000000  150.000000     NaN  4.500000  1500.000000   \n",
       "\n",
       "        Director  Actor 1  Actor 2  Actor 3  \n",
       "count          4        4        4        4  \n",
       "unique         4        4        4        4  \n",
       "top     John Doe  Actor A  Unknown  Actor H  \n",
       "freq           1        1        1        1  \n",
       "mean         NaN      NaN      NaN      NaN  \n",
       "std          NaN      NaN      NaN      NaN  \n",
       "min          NaN      NaN      NaN      NaN  \n",
       "25%          NaN      NaN      NaN      NaN  \n",
       "50%          NaN      NaN      NaN      NaN  \n",
       "75%          NaN      NaN      NaN      NaN  \n",
       "max          NaN      NaN      NaN      NaN  "
      ]
     },
     "execution_count": 70,
     "metadata": {},
     "output_type": "execute_result"
    }
   ],
   "source": [
    "variable.describe(include='all')"
   ]
  },
  {
   "cell_type": "code",
   "execution_count": 71,
   "id": "f5c312c0",
   "metadata": {
    "tags": []
   },
   "outputs": [],
   "source": [
    "x = variable[['Year', 'Votes', 'Duration', 'Director', 'Actor 1', 'Actor 2', 'Actor 3']]\n",
    "y = variable['Rating']\n",
    "x_train, x_test, y_train, y_test = train_test_split(x, y, test_size=0.2, random_state=42) "
   ]
  },
  {
   "cell_type": "code",
   "execution_count": 72,
   "id": "434f56d3",
   "metadata": {},
   "outputs": [
    {
     "data": {
      "text/html": [
       "<div>\n",
       "<style scoped>\n",
       "    .dataframe tbody tr th:only-of-type {\n",
       "        vertical-align: middle;\n",
       "    }\n",
       "\n",
       "    .dataframe tbody tr th {\n",
       "        vertical-align: top;\n",
       "    }\n",
       "\n",
       "    .dataframe thead th {\n",
       "        text-align: right;\n",
       "    }\n",
       "</style>\n",
       "<table border=\"1\" class=\"dataframe\">\n",
       "  <thead>\n",
       "    <tr style=\"text-align: right;\">\n",
       "      <th></th>\n",
       "      <th>Year</th>\n",
       "      <th>Votes</th>\n",
       "      <th>Duration</th>\n",
       "      <th>Director</th>\n",
       "      <th>Actor 1</th>\n",
       "      <th>Actor 2</th>\n",
       "      <th>Actor 3</th>\n",
       "      <th>Rating</th>\n",
       "    </tr>\n",
       "  </thead>\n",
       "  <tbody>\n",
       "    <tr>\n",
       "      <th>3</th>\n",
       "      <td>2023.0</td>\n",
       "      <td>800.0</td>\n",
       "      <td>100.000000</td>\n",
       "      <td>David Lee</td>\n",
       "      <td>Actor D</td>\n",
       "      <td>Actor G</td>\n",
       "      <td>Unknown</td>\n",
       "      <td>4.2</td>\n",
       "    </tr>\n",
       "    <tr>\n",
       "      <th>0</th>\n",
       "      <td>2020.0</td>\n",
       "      <td>1000.0</td>\n",
       "      <td>120.000000</td>\n",
       "      <td>John Doe</td>\n",
       "      <td>Actor A</td>\n",
       "      <td>Unknown</td>\n",
       "      <td>Actor H</td>\n",
       "      <td>4.5</td>\n",
       "    </tr>\n",
       "    <tr>\n",
       "      <th>2</th>\n",
       "      <td>2021.0</td>\n",
       "      <td>1100.0</td>\n",
       "      <td>123.333333</td>\n",
       "      <td>Jane Smith</td>\n",
       "      <td>Unknown</td>\n",
       "      <td>Actor F</td>\n",
       "      <td>Actor J</td>\n",
       "      <td>3.8</td>\n",
       "    </tr>\n",
       "  </tbody>\n",
       "</table>\n",
       "</div>"
      ],
      "text/plain": [
       "     Year   Votes    Duration    Director  Actor 1  Actor 2  Actor 3  Rating\n",
       "3  2023.0   800.0  100.000000   David Lee  Actor D  Actor G  Unknown     4.2\n",
       "0  2020.0  1000.0  120.000000    John Doe  Actor A  Unknown  Actor H     4.5\n",
       "2  2021.0  1100.0  123.333333  Jane Smith  Unknown  Actor F  Actor J     3.8"
      ]
     },
     "execution_count": 72,
     "metadata": {},
     "output_type": "execute_result"
    }
   ],
   "source": [
    "train_data= x_train.join(y_train)\n",
    "train_data\n",
    "\n",
    "\n"
   ]
  },
  {
   "cell_type": "code",
   "execution_count": 73,
   "id": "779c1af4-0381-486b-900b-cac1e228f2b2",
   "metadata": {},
   "outputs": [
    {
     "name": "stdout",
     "output_type": "stream",
     "text": [
      "(3, 7) (1, 7) (3,) (1,)\n"
     ]
    }
   ],
   "source": [
    "print(x_train.shape, x_test.shape, y_train.shape, y_test.shape)\n"
   ]
  },
  {
   "cell_type": "code",
   "execution_count": 74,
   "id": "d46c8314",
   "metadata": {
    "tags": []
   },
   "outputs": [],
   "source": [
    "model = RandomForestRegressor() "
   ]
  },
  {
   "cell_type": "code",
   "execution_count": 75,
   "id": "e61813f9-3491-4125-b283-90e79bd49b45",
   "metadata": {
    "tags": []
   },
   "outputs": [],
   "source": [
    "y_train = y_train[pd.to_numeric(y_train, errors='coerce').notnull()] "
   ]
  },
  {
   "cell_type": "code",
   "execution_count": 76,
   "id": "014e523a-c01c-4a65-aa44-c4d109c43786",
   "metadata": {
    "tags": []
   },
   "outputs": [
    {
     "name": "stdout",
     "output_type": "stream",
     "text": [
      "[2020. 2021. 2023.]\n"
     ]
    }
   ],
   "source": [
    "unique_values = variable['Year'].unique()\n",
    "print(unique_values)\n",
    "    "
   ]
  },
  {
   "cell_type": "code",
   "execution_count": 78,
   "id": "b9b4557a-d91c-4d2a-bf93-27f228100d87",
   "metadata": {
    "tags": []
   },
   "outputs": [],
   "source": [
    "import numpy as np\n",
    "Year = [np.nan, '(2019)', '(2021)', '(2010)', '(1997)', '(2005)', '(2008)', '(2012)',\n",
    "         '(2014)', '(2004)', '(2016)', '(1991)', '(1990)', '(2018)', '(1987)', '(1948)',\n",
    "         '(1958)', '(2017)', '(2020)', '(2009)', '(2002)', '(1993)', '(1946)', '(1994)',\n",
    "         '(2007)', '(2013)', '(2003)', '(1998)', '(1979)', '(1951)', '(1956)', '(1974)',\n",
    "         '(2015)', '(2006)', '(1981)', '(1985)', '(2011)', '(2001)', '(1967)', '(1988)',\n",
    "         '(1995)', '(1959)', '(1996)', '(1970)', '(1976)', '(2000)', '(1999)', '(1973)',\n",
    "         '(1968)', '(1943)', '(1953)', '(1986)', '(1983)', '(1989)', '(1982)', '(1977)',\n",
    "         '(1957)', '(1950)', '(1992)', '(1969)', '(1975)', '(1947)', '(1972)', '(1971)',\n",
    "         '(1935)', '(1978)', '(1960)', '(1944)', '(1963)', '(1940)', '(1984)', '(1934)',\n",
    "         '(1955)', '(1936)', '(1980)', '(1966)', '(1949)', '(1962)', '(1964)', '(1952)',\n",
    "         '(1933)', '(1942)', '(1939)', '(1954)', '(1945)', '(1961)', '(1965)', '(1938)',\n",
    "         '(1941)', '(1931)', '(1937)', '(2022)', '(1932)', '(1923)', '(1915)', '(1928)',\n",
    "         '(1922)', '(1917)', '(1913)', '(1930)', '(1926)', '(1914)', '(1924)']\n"
   ]
  },
  {
   "cell_type": "code",
   "execution_count": 79,
   "id": "95d7d986",
   "metadata": {},
   "outputs": [
    {
     "name": "stdout",
     "output_type": "stream",
     "text": [
      "     Year\n",
      "0     NaN\n",
      "1  2019.0\n",
      "2  2021.0\n",
      "3  2010.0\n",
      "4  1997.0\n",
      "<class 'pandas.core.frame.DataFrame'>\n",
      "RangeIndex: 103 entries, 0 to 102\n",
      "Data columns (total 1 columns):\n",
      " #   Column  Non-Null Count  Dtype  \n",
      "---  ------  --------------  -----  \n",
      " 0   Year    102 non-null    float64\n",
      "dtypes: float64(1)\n",
      "memory usage: 956.0 bytes\n",
      "None\n"
     ]
    }
   ],
   "source": [
    "cleaned_years = []\n",
    "for Year in Year:\n",
    "    if pd.notna(Year): \n",
    "        cleaned_year = str(Year).strip('()')  \n",
    "        try:\n",
    "            cleaned_years.append(int(cleaned_year)) \n",
    "        except ValueError:\n",
    "            print(f\"Could not convert '{Year}' to a number. Appending as is.\")\n",
    "            cleaned_years.append(year)  \n",
    "    else:\n",
    "        cleaned_years.append(np.nan) \n",
    "\n",
    "variable= pd.DataFrame({'Year': cleaned_years}) \n",
    "\n",
    "print(variable.head())\n",
    "print(variable.info()) \n",
    "\n"
   ]
  },
  {
   "cell_type": "code",
   "execution_count": 80,
   "id": "57ad4ac0",
   "metadata": {},
   "outputs": [
    {
     "name": "stdout",
     "output_type": "stream",
     "text": [
      "[  nan 2019. 2021. 2010. 1997. 2005. 2008. 2012. 2014. 2004. 2016. 1991.\n",
      " 1990. 2018. 1987. 1948. 1958. 2017. 2020. 2009. 2002. 1993. 1946. 1994.\n",
      " 2007. 2013. 2003. 1998. 1979. 1951. 1956. 1974. 2015. 2006. 1981. 1985.\n",
      " 2011. 2001. 1967. 1988. 1995. 1959. 1996. 1970. 1976. 2000. 1999. 1973.\n",
      " 1968. 1943. 1953. 1986. 1983. 1989. 1982. 1977. 1957. 1950. 1992. 1969.\n",
      " 1975. 1947. 1972. 1971. 1935. 1978. 1960. 1944. 1963. 1940. 1984. 1934.\n",
      " 1955. 1936. 1980. 1966. 1949. 1962. 1964. 1952. 1933. 1942. 1939. 1954.\n",
      " 1945. 1961. 1965. 1938. 1941. 1931. 1937. 2022. 1932. 1923. 1915. 1928.\n",
      " 1922. 1917. 1913. 1930. 1926. 1914. 1924.]\n"
     ]
    }
   ],
   "source": [
    "unique_values = variable['Year'].unique()\n",
    "print(unique_values)\n"
   ]
  },
  {
   "cell_type": "code",
   "execution_count": 81,
   "id": "0f9d1040",
   "metadata": {},
   "outputs": [],
   "source": [
    "variable=variable.dropna()\n",
    "\n"
   ]
  },
  {
   "cell_type": "code",
   "execution_count": 82,
   "id": "bf902527",
   "metadata": {},
   "outputs": [
    {
     "name": "stdout",
     "output_type": "stream",
     "text": [
      "<class 'pandas.core.frame.DataFrame'>\n",
      "Index: 102 entries, 1 to 102\n",
      "Data columns (total 1 columns):\n",
      " #   Column  Non-Null Count  Dtype  \n",
      "---  ------  --------------  -----  \n",
      " 0   Year    102 non-null    float64\n",
      "dtypes: float64(1)\n",
      "memory usage: 1.6 KB\n"
     ]
    }
   ],
   "source": [
    "variable.info()\n"
   ]
  },
  {
   "cell_type": "code",
   "execution_count": 83,
   "id": "c55f2ea9-62ac-4e5a-bf39-d25e31e1671c",
   "metadata": {
    "tags": []
   },
   "outputs": [
    {
     "name": "stdout",
     "output_type": "stream",
     "text": [
      "Year    float64\n",
      "dtype: object\n"
     ]
    }
   ],
   "source": [
    "print(variable.dtypes)\n"
   ]
  },
  {
   "cell_type": "code",
   "execution_count": 84,
   "id": "f7471c0c",
   "metadata": {},
   "outputs": [],
   "source": [
    "def top_movies_per_year(variable, n=10):\n",
    "    return variable.groupby('Year').apply(lambda x: x.nlargest(n, 'Rating'))\n"
   ]
  },
  {
   "cell_type": "code",
   "execution_count": 85,
   "id": "71ec059b",
   "metadata": {},
   "outputs": [],
   "source": [
    "x = variable.drop(columns=['Year'])\n",
    "y = variable['Year']"
   ]
  },
  {
   "cell_type": "code",
   "execution_count": 86,
   "id": "f1465db9-34d4-427b-86ba-b2d81120a301",
   "metadata": {},
   "outputs": [],
   "source": [
    "x_train, x_test, y_train, y_test = train_test_split(x, y, test_size=0.2, random_state=42)"
   ]
  },
  {
   "cell_type": "code",
   "execution_count": 87,
   "id": "f12e495d-5566-4156-84c5-23d5e267389e",
   "metadata": {
    "tags": []
   },
   "outputs": [],
   "source": [
    "model = LinearRegression()"
   ]
  },
  {
   "cell_type": "code",
   "execution_count": 88,
   "id": "a07d4e3e-b7c6-40c4-8c6f-955636beea25",
   "metadata": {
    "tags": []
   },
   "outputs": [
    {
     "ename": "ValueError",
     "evalue": "at least one array or dtype is required",
     "output_type": "error",
     "traceback": [
      "\u001b[1;31m---------------------------------------------------------------------------\u001b[0m",
      "\u001b[1;31mValueError\u001b[0m                                Traceback (most recent call last)",
      "Cell \u001b[1;32mIn[88], line 1\u001b[0m\n\u001b[1;32m----> 1\u001b[0m model\u001b[38;5;241m.\u001b[39mfit(x_train, y_train)\n",
      "File \u001b[1;32m~\\anaconda3\\Lib\\site-packages\\sklearn\\base.py:1151\u001b[0m, in \u001b[0;36m_fit_context.<locals>.decorator.<locals>.wrapper\u001b[1;34m(estimator, *args, **kwargs)\u001b[0m\n\u001b[0;32m   1144\u001b[0m     estimator\u001b[38;5;241m.\u001b[39m_validate_params()\n\u001b[0;32m   1146\u001b[0m \u001b[38;5;28;01mwith\u001b[39;00m config_context(\n\u001b[0;32m   1147\u001b[0m     skip_parameter_validation\u001b[38;5;241m=\u001b[39m(\n\u001b[0;32m   1148\u001b[0m         prefer_skip_nested_validation \u001b[38;5;129;01mor\u001b[39;00m global_skip_validation\n\u001b[0;32m   1149\u001b[0m     )\n\u001b[0;32m   1150\u001b[0m ):\n\u001b[1;32m-> 1151\u001b[0m     \u001b[38;5;28;01mreturn\u001b[39;00m fit_method(estimator, \u001b[38;5;241m*\u001b[39margs, \u001b[38;5;241m*\u001b[39m\u001b[38;5;241m*\u001b[39mkwargs)\n",
      "File \u001b[1;32m~\\anaconda3\\Lib\\site-packages\\sklearn\\linear_model\\_base.py:678\u001b[0m, in \u001b[0;36mLinearRegression.fit\u001b[1;34m(self, X, y, sample_weight)\u001b[0m\n\u001b[0;32m    674\u001b[0m n_jobs_ \u001b[38;5;241m=\u001b[39m \u001b[38;5;28mself\u001b[39m\u001b[38;5;241m.\u001b[39mn_jobs\n\u001b[0;32m    676\u001b[0m accept_sparse \u001b[38;5;241m=\u001b[39m \u001b[38;5;28;01mFalse\u001b[39;00m \u001b[38;5;28;01mif\u001b[39;00m \u001b[38;5;28mself\u001b[39m\u001b[38;5;241m.\u001b[39mpositive \u001b[38;5;28;01melse\u001b[39;00m [\u001b[38;5;124m\"\u001b[39m\u001b[38;5;124mcsr\u001b[39m\u001b[38;5;124m\"\u001b[39m, \u001b[38;5;124m\"\u001b[39m\u001b[38;5;124mcsc\u001b[39m\u001b[38;5;124m\"\u001b[39m, \u001b[38;5;124m\"\u001b[39m\u001b[38;5;124mcoo\u001b[39m\u001b[38;5;124m\"\u001b[39m]\n\u001b[1;32m--> 678\u001b[0m X, y \u001b[38;5;241m=\u001b[39m \u001b[38;5;28mself\u001b[39m\u001b[38;5;241m.\u001b[39m_validate_data(\n\u001b[0;32m    679\u001b[0m     X, y, accept_sparse\u001b[38;5;241m=\u001b[39maccept_sparse, y_numeric\u001b[38;5;241m=\u001b[39m\u001b[38;5;28;01mTrue\u001b[39;00m, multi_output\u001b[38;5;241m=\u001b[39m\u001b[38;5;28;01mTrue\u001b[39;00m\n\u001b[0;32m    680\u001b[0m )\n\u001b[0;32m    682\u001b[0m has_sw \u001b[38;5;241m=\u001b[39m sample_weight \u001b[38;5;129;01mis\u001b[39;00m \u001b[38;5;129;01mnot\u001b[39;00m \u001b[38;5;28;01mNone\u001b[39;00m\n\u001b[0;32m    683\u001b[0m \u001b[38;5;28;01mif\u001b[39;00m has_sw:\n",
      "File \u001b[1;32m~\\anaconda3\\Lib\\site-packages\\sklearn\\base.py:621\u001b[0m, in \u001b[0;36mBaseEstimator._validate_data\u001b[1;34m(self, X, y, reset, validate_separately, cast_to_ndarray, **check_params)\u001b[0m\n\u001b[0;32m    619\u001b[0m         y \u001b[38;5;241m=\u001b[39m check_array(y, input_name\u001b[38;5;241m=\u001b[39m\u001b[38;5;124m\"\u001b[39m\u001b[38;5;124my\u001b[39m\u001b[38;5;124m\"\u001b[39m, \u001b[38;5;241m*\u001b[39m\u001b[38;5;241m*\u001b[39mcheck_y_params)\n\u001b[0;32m    620\u001b[0m     \u001b[38;5;28;01melse\u001b[39;00m:\n\u001b[1;32m--> 621\u001b[0m         X, y \u001b[38;5;241m=\u001b[39m check_X_y(X, y, \u001b[38;5;241m*\u001b[39m\u001b[38;5;241m*\u001b[39mcheck_params)\n\u001b[0;32m    622\u001b[0m     out \u001b[38;5;241m=\u001b[39m X, y\n\u001b[0;32m    624\u001b[0m \u001b[38;5;28;01mif\u001b[39;00m \u001b[38;5;129;01mnot\u001b[39;00m no_val_X \u001b[38;5;129;01mand\u001b[39;00m check_params\u001b[38;5;241m.\u001b[39mget(\u001b[38;5;124m\"\u001b[39m\u001b[38;5;124mensure_2d\u001b[39m\u001b[38;5;124m\"\u001b[39m, \u001b[38;5;28;01mTrue\u001b[39;00m):\n",
      "File \u001b[1;32m~\\anaconda3\\Lib\\site-packages\\sklearn\\utils\\validation.py:1147\u001b[0m, in \u001b[0;36mcheck_X_y\u001b[1;34m(X, y, accept_sparse, accept_large_sparse, dtype, order, copy, force_all_finite, ensure_2d, allow_nd, multi_output, ensure_min_samples, ensure_min_features, y_numeric, estimator)\u001b[0m\n\u001b[0;32m   1142\u001b[0m         estimator_name \u001b[38;5;241m=\u001b[39m _check_estimator_name(estimator)\n\u001b[0;32m   1143\u001b[0m     \u001b[38;5;28;01mraise\u001b[39;00m \u001b[38;5;167;01mValueError\u001b[39;00m(\n\u001b[0;32m   1144\u001b[0m         \u001b[38;5;124mf\u001b[39m\u001b[38;5;124m\"\u001b[39m\u001b[38;5;132;01m{\u001b[39;00mestimator_name\u001b[38;5;132;01m}\u001b[39;00m\u001b[38;5;124m requires y to be passed, but the target y is None\u001b[39m\u001b[38;5;124m\"\u001b[39m\n\u001b[0;32m   1145\u001b[0m     )\n\u001b[1;32m-> 1147\u001b[0m X \u001b[38;5;241m=\u001b[39m check_array(\n\u001b[0;32m   1148\u001b[0m     X,\n\u001b[0;32m   1149\u001b[0m     accept_sparse\u001b[38;5;241m=\u001b[39maccept_sparse,\n\u001b[0;32m   1150\u001b[0m     accept_large_sparse\u001b[38;5;241m=\u001b[39maccept_large_sparse,\n\u001b[0;32m   1151\u001b[0m     dtype\u001b[38;5;241m=\u001b[39mdtype,\n\u001b[0;32m   1152\u001b[0m     order\u001b[38;5;241m=\u001b[39morder,\n\u001b[0;32m   1153\u001b[0m     copy\u001b[38;5;241m=\u001b[39mcopy,\n\u001b[0;32m   1154\u001b[0m     force_all_finite\u001b[38;5;241m=\u001b[39mforce_all_finite,\n\u001b[0;32m   1155\u001b[0m     ensure_2d\u001b[38;5;241m=\u001b[39mensure_2d,\n\u001b[0;32m   1156\u001b[0m     allow_nd\u001b[38;5;241m=\u001b[39mallow_nd,\n\u001b[0;32m   1157\u001b[0m     ensure_min_samples\u001b[38;5;241m=\u001b[39mensure_min_samples,\n\u001b[0;32m   1158\u001b[0m     ensure_min_features\u001b[38;5;241m=\u001b[39mensure_min_features,\n\u001b[0;32m   1159\u001b[0m     estimator\u001b[38;5;241m=\u001b[39mestimator,\n\u001b[0;32m   1160\u001b[0m     input_name\u001b[38;5;241m=\u001b[39m\u001b[38;5;124m\"\u001b[39m\u001b[38;5;124mX\u001b[39m\u001b[38;5;124m\"\u001b[39m,\n\u001b[0;32m   1161\u001b[0m )\n\u001b[0;32m   1163\u001b[0m y \u001b[38;5;241m=\u001b[39m _check_y(y, multi_output\u001b[38;5;241m=\u001b[39mmulti_output, y_numeric\u001b[38;5;241m=\u001b[39my_numeric, estimator\u001b[38;5;241m=\u001b[39mestimator)\n\u001b[0;32m   1165\u001b[0m check_consistent_length(X, y)\n",
      "File \u001b[1;32m~\\anaconda3\\Lib\\site-packages\\sklearn\\utils\\validation.py:797\u001b[0m, in \u001b[0;36mcheck_array\u001b[1;34m(array, accept_sparse, accept_large_sparse, dtype, order, copy, force_all_finite, ensure_2d, allow_nd, ensure_min_samples, ensure_min_features, estimator, input_name)\u001b[0m\n\u001b[0;32m    793\u001b[0m pandas_requires_conversion \u001b[38;5;241m=\u001b[39m \u001b[38;5;28many\u001b[39m(\n\u001b[0;32m    794\u001b[0m     _pandas_dtype_needs_early_conversion(i) \u001b[38;5;28;01mfor\u001b[39;00m i \u001b[38;5;129;01min\u001b[39;00m dtypes_orig\n\u001b[0;32m    795\u001b[0m )\n\u001b[0;32m    796\u001b[0m \u001b[38;5;28;01mif\u001b[39;00m \u001b[38;5;28mall\u001b[39m(\u001b[38;5;28misinstance\u001b[39m(dtype_iter, np\u001b[38;5;241m.\u001b[39mdtype) \u001b[38;5;28;01mfor\u001b[39;00m dtype_iter \u001b[38;5;129;01min\u001b[39;00m dtypes_orig):\n\u001b[1;32m--> 797\u001b[0m     dtype_orig \u001b[38;5;241m=\u001b[39m np\u001b[38;5;241m.\u001b[39mresult_type(\u001b[38;5;241m*\u001b[39mdtypes_orig)\n\u001b[0;32m    798\u001b[0m \u001b[38;5;28;01melif\u001b[39;00m pandas_requires_conversion \u001b[38;5;129;01mand\u001b[39;00m \u001b[38;5;28many\u001b[39m(d \u001b[38;5;241m==\u001b[39m \u001b[38;5;28mobject\u001b[39m \u001b[38;5;28;01mfor\u001b[39;00m d \u001b[38;5;129;01min\u001b[39;00m dtypes_orig):\n\u001b[0;32m    799\u001b[0m     \u001b[38;5;66;03m# Force object if any of the dtypes is an object\u001b[39;00m\n\u001b[0;32m    800\u001b[0m     dtype_orig \u001b[38;5;241m=\u001b[39m \u001b[38;5;28mobject\u001b[39m\n",
      "File \u001b[1;32m<__array_function__ internals>:200\u001b[0m, in \u001b[0;36mresult_type\u001b[1;34m(*args, **kwargs)\u001b[0m\n",
      "\u001b[1;31mValueError\u001b[0m: at least one array or dtype is required"
     ]
    }
   ],
   "source": [
    "model.fit(x_train, y_train)"
   ]
  },
  {
   "cell_type": "code",
   "execution_count": null,
   "id": "153fca46-600c-484e-a8c6-810de2df7f36",
   "metadata": {},
   "outputs": [],
   "source": []
  }
 ],
 "metadata": {
  "kernelspec": {
   "display_name": "Python 3 (ipykernel)",
   "language": "python",
   "name": "python3"
  },
  "language_info": {
   "codemirror_mode": {
    "name": "ipython",
    "version": 3
   },
   "file_extension": ".py",
   "mimetype": "text/x-python",
   "name": "python",
   "nbconvert_exporter": "python",
   "pygments_lexer": "ipython3",
   "version": "3.11.5"
  }
 },
 "nbformat": 4,
 "nbformat_minor": 5
}
